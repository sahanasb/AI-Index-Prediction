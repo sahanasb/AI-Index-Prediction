{
  "nbformat": 4,
  "nbformat_minor": 0,
  "metadata": {
    "colab": {
      "provenance": [],
      "authorship_tag": "ABX9TyN0ggwSfeaORISAmugGiuJW",
      "include_colab_link": true
    },
    "kernelspec": {
      "name": "python3",
      "display_name": "Python 3"
    },
    "language_info": {
      "name": "python"
    }
  },
  "cells": [
    {
      "cell_type": "markdown",
      "metadata": {
        "id": "view-in-github",
        "colab_type": "text"
      },
      "source": [
        "<a href=\"https://colab.research.google.com/github/sahanasb/hello/blob/main/ProjectProposal_ISE_201.ipynb\" target=\"_parent\"><img src=\"https://colab.research.google.com/assets/colab-badge.svg\" alt=\"Open In Colab\"/></a>"
      ]
    },
    {
      "cell_type": "markdown",
      "source": [
        "# **Appendix**"
      ],
      "metadata": {
        "id": "1DZWU-dx9xdq"
      }
    },
    {
      "cell_type": "code",
      "execution_count": 27,
      "metadata": {
        "id": "pY9PkPyc8FiR"
      },
      "outputs": [],
      "source": [
        "import pandas as pd\n",
        "import matplotlib.pyplot as plt\n",
        "import seaborn as sns"
      ]
    },
    {
      "cell_type": "markdown",
      "source": [
        "`1. Largest Companies in the World - https://www.kaggle.com/datasets/yatinkundra666/largest-companies-by-revenue`"
      ],
      "metadata": {
        "id": "avwXVXJB5eID"
      }
    },
    {
      "cell_type": "code",
      "source": [
        "df = pd.read_csv('/content/largest_companies_world.csv')\n",
        "\n",
        "print(df.head(3))"
      ],
      "metadata": {
        "colab": {
          "base_uri": "https://localhost:8080/"
        },
        "id": "SmXMXmxCYFL5",
        "outputId": "1b3bea47-118a-46b4-89fe-8b89479705de"
      },
      "execution_count": 28,
      "outputs": [
        {
          "output_type": "stream",
          "name": "stdout",
          "text": [
            "   Rank          Name     Industry   Revenue    Profit  Employees  \\\n",
            "0     1       Walmart       Retail  $611,289   $11,680  2,100,000   \n",
            "1     2  Saudi Aramco  Oil and gas  $603,651  $159,069     70,496   \n",
            "2     3        Amazon       Retail  $574,785   $30,425  1,525,000   \n",
            "\n",
            "    Headquarters Revenue per worker  \n",
            "0  United States        $291,090.00  \n",
            "1   Saudi Arabia      $8,562,911.37  \n",
            "2  United States           $376,908  \n"
          ]
        }
      ]
    },
    {
      "cell_type": "code",
      "source": [
        "print(df.describe())"
      ],
      "metadata": {
        "id": "hMioJfua0rw-",
        "colab": {
          "base_uri": "https://localhost:8080/"
        },
        "outputId": "46be8205-5f79-4657-f14e-e8bd9a5e0318"
      },
      "execution_count": 29,
      "outputs": [
        {
          "output_type": "stream",
          "name": "stdout",
          "text": [
            "       Rank\n",
            "count 50.00\n",
            "mean  25.50\n",
            "std   14.58\n",
            "min    1.00\n",
            "25%   13.25\n",
            "50%   25.50\n",
            "75%   37.75\n",
            "max   50.00\n"
          ]
        }
      ]
    },
    {
      "cell_type": "code",
      "source": [
        "print(df.columns)"
      ],
      "metadata": {
        "colab": {
          "base_uri": "https://localhost:8080/"
        },
        "id": "4xifjF0e0auq",
        "outputId": "4d3620e5-226a-4e9e-9d43-ac0afe6ea36b"
      },
      "execution_count": 30,
      "outputs": [
        {
          "output_type": "stream",
          "name": "stdout",
          "text": [
            "Index(['Rank', 'Name', 'Industry', 'Revenue', 'Profit', 'Employees',\n",
            "       'Headquarters', 'Revenue per worker'],\n",
            "      dtype='object')\n"
          ]
        }
      ]
    },
    {
      "cell_type": "code",
      "source": [
        "# Clean and convert non numerical columns into numerical columns\n",
        "#  'coerce' → converts bad values to NaN (Not a Number)\n",
        "#  First argument (r'[\\$,]') is a regular expression (a pattern), not a plain string\n",
        "\n",
        "df['Revenue'] = pd.to_numeric(df['Revenue'].replace(r'[\\$,]', '', regex=True), errors='coerce')\n",
        "df['Profit'] = pd.to_numeric(df['Profit'].replace(r'[\\$,]', '', regex=True), errors='coerce')\n",
        "df['Employees'] = pd.to_numeric(df['Employees'].replace(r'[,]', '', regex=True), errors='coerce')\n",
        "df['Revenue per worker'] = pd.to_numeric(df['Revenue per worker'].replace(r'[\\$,]', '', regex=True), errors='coerce')\n",
        "\n",
        "print(df.head())\n",
        "\n",
        "pd.set_option('display.float_format', '{:,.2f}'.format)\n",
        "\n",
        "print(df.describe())"
      ],
      "metadata": {
        "colab": {
          "base_uri": "https://localhost:8080/"
        },
        "id": "IABoU_GtERXI",
        "outputId": "67479d47-4986-44aa-ab0b-def57079c9da"
      },
      "execution_count": 31,
      "outputs": [
        {
          "output_type": "stream",
          "name": "stdout",
          "text": [
            "   Rank                             Name     Industry  Revenue     Profit  \\\n",
            "0     1                          Walmart       Retail   611289  11,680.00   \n",
            "1     2                     Saudi Aramco  Oil and gas   603651 159,069.00   \n",
            "2     3                           Amazon       Retail   574785  30,425.00   \n",
            "3     4  State Grid Corporation of China  Electricity   530009   8,192.00   \n",
            "4     5                            Vitol  Commodities   505000  15,000.00   \n",
            "\n",
            "   Employees   Headquarters  Revenue per worker  \n",
            "0    2100000  United States          291,090.00  \n",
            "1      70496   Saudi Arabia        8,562,911.37  \n",
            "2    1525000  United States          376,908.00  \n",
            "3     870287          China          609,004.85  \n",
            "4       1560    Switzerland      323,717,948.72  \n",
            "       Rank    Revenue     Profit    Employees  Revenue per worker\n",
            "count 50.00      50.00      42.00        50.00               50.00\n",
            "mean  25.50 275,541.28  24,845.17   319,759.44       10,220,422.37\n",
            "std   14.58 127,423.77  30,114.63   393,036.25       45,811,488.87\n",
            "min    1.00 157,403.00   1,699.00     1,560.00          277,913.04\n",
            "25%   13.25 176,779.50   7,293.50    70,297.25          561,257.00\n",
            "50%   25.50 236,358.00  15,242.50   220,880.00          905,386.80\n",
            "75%   37.75 315,328.25  28,088.75   382,873.00        3,875,228.43\n",
            "max   50.00 611,289.00 159,069.00 2,100,000.00      323,717,948.72\n"
          ]
        }
      ]
    },
    {
      "cell_type": "code",
      "source": [
        "\n",
        "print(f\"Mean - Revenue: {df['Revenue'].mean():.2f}\")\n",
        "print(f\"Median - Revenue: {df['Revenue'].median():.2f}\")\n",
        "print(f\"STD - Revenue: {df['Revenue'].std():.2f}\")\n",
        "# print(df[\"Revenue\"].mode())\n",
        "print()\n",
        "\n",
        "print(f\"Mean - Profit: {df['Profit'].mean():.2f}\")\n",
        "print(f\"Median - Profit: {df['Profit'].median():.2f}\")\n",
        "print(f\"STD - Profit: {df['Profit'].std():.2f}\")\n",
        "# print(df[\"Profit\"].mode())\n",
        "print()\n",
        "\n",
        "\n",
        "print(f\"Mean - Employees: {df['Employees'].mean():.2f}\")\n",
        "print(f\"Median - Employees: {df['Employees'].median():.2f}\")\n",
        "print(f\"STD - Employees: {df['Employees'].std():.2f}\")\n",
        "# print(df[\"Profit\"].mode())\n",
        "print()\n",
        "\n",
        "print(f\"Mean - Revenue per worker: {df['Revenue per worker'].mean():.2f}\")\n",
        "print(f\"Median - Revenue per worker: {df['Revenue per worker'].median():.2f}\")\n",
        "print(f\"STD - Revenue per worker: {df['Revenue per worker'].std():.2f}\")\n",
        "# print(df[\"Profit\"].mode())\n",
        "print()"
      ],
      "metadata": {
        "colab": {
          "base_uri": "https://localhost:8080/"
        },
        "id": "SwHq-M-qEUFh",
        "outputId": "e8baf4f3-2d06-47a3-a82c-c3a7b5132076"
      },
      "execution_count": 32,
      "outputs": [
        {
          "output_type": "stream",
          "name": "stdout",
          "text": [
            "Mean - Revenue: 275541.28\n",
            "Median - Revenue: 236358.00\n",
            "STD - Revenue: 127423.77\n",
            "\n",
            "Mean - Profit: 24845.17\n",
            "Median - Profit: 15242.50\n",
            "STD - Profit: 30114.63\n",
            "\n",
            "Mean - Employees: 319759.44\n",
            "Median - Employees: 220880.00\n",
            "STD - Employees: 393036.25\n",
            "\n",
            "Mean - Revenue per worker: 10220422.37\n",
            "Median - Revenue per worker: 905386.80\n",
            "STD - Revenue per worker: 45811488.87\n",
            "\n"
          ]
        }
      ]
    },
    {
      "cell_type": "markdown",
      "source": [
        "2. AI Ghibli Trend Dataset - https://www.kaggle.com/datasets/uom190346a/ai-generated-ghibli-style-image-trends-2025"
      ],
      "metadata": {
        "id": "huxmgvpJoLm9"
      }
    },
    {
      "cell_type": "code",
      "source": [
        "df = pd.read_csv('/content/ai_ghibli_trend_dataset_v2.csv')\n"
      ],
      "metadata": {
        "id": "2KzZPxjuoXw6"
      },
      "execution_count": 33,
      "outputs": []
    },
    {
      "cell_type": "code",
      "source": [
        "print(df.head())"
      ],
      "metadata": {
        "colab": {
          "base_uri": "https://localhost:8080/"
        },
        "id": "CCSbV6gnFnWB",
        "outputId": "ceba30d2-23e3-4ce4-b1b9-4ee8f6f4e791"
      },
      "execution_count": 34,
      "outputs": [
        {
          "output_type": "stream",
          "name": "stdout",
          "text": [
            "                               image_id   user_id  \\\n",
            "0  77ce5c72-eb45-4651-bcb1-c0677c0fceaf  6a7adf3d   \n",
            "1  7d66c67f-0d11-4ef9-895c-d865ef11fe40  523b8706   \n",
            "2  d7978afd-3932-4cce-9a21-5f9bf2bc1f64  0e02592a   \n",
            "3  cb34636a-a15c-4b15-999c-759dbb8896fe  9ed78a42   \n",
            "4  7511fbb8-db05-4584-a3a4-e8bb525ed58b  69ec8f02   \n",
            "\n",
            "                                         prompt  likes  shares  comments  \\\n",
            "0  Studio Ghibli-inspired ocean with giant fish    916     410       555   \n",
            "1                Ghibli-style village at sunset   2965    1361       417   \n",
            "2   A lone traveler exploring an enchanted ruin   4727     655       785   \n",
            "3    Spirited Away-style bustling market street   1629    1954       212   \n",
            "4  Magical Ghibli forest with floating lanterns   2573    1281       913   \n",
            "\n",
            "    platform  generation_time  gpu_usage  file_size_kb resolution  \\\n",
            "0     Reddit             4.80         49          1684  1024x1024   \n",
            "1     Reddit            11.11         81          2808  1024x1024   \n",
            "2  Instagram             5.56         41          1800  2048x2048   \n",
            "3     TikTok            12.45         88           479  2048x2048   \n",
            "4     TikTok             4.80         64          1789    512x512   \n",
            "\n",
            "   style_accuracy_score is_hand_edited ethical_concerns_flag creation_date  \\\n",
            "0                    89            Yes                   Yes    2025-03-11   \n",
            "1                    92            Yes                    No    2025-03-11   \n",
            "2                    61             No                    No    2025-03-06   \n",
            "3                    76             No                    No    2025-03-23   \n",
            "4                    58             No                   Yes    2025-03-06   \n",
            "\n",
            "                                         top_comment  \n",
            "0  So nostalgic, feels like childhood memories. 🎥...  \n",
            "1     Absolutely stunning! Love the details. 🎨 #5729  \n",
            "2      Is this AI or hand-painted? Incredible! #8001  \n",
            "3      Is this AI or hand-painted? Incredible! #5620  \n",
            "4  This looks straight out of a Ghibli movie! 🌟 #...  \n"
          ]
        }
      ]
    },
    {
      "cell_type": "code",
      "source": [
        "print(df.describe())"
      ],
      "metadata": {
        "colab": {
          "base_uri": "https://localhost:8080/"
        },
        "id": "JZZpF-LtFbCX",
        "outputId": "8466d1cd-82fb-4a82-830c-aadb240fb999"
      },
      "execution_count": 35,
      "outputs": [
        {
          "output_type": "stream",
          "name": "stdout",
          "text": [
            "         likes   shares  comments  generation_time  gpu_usage  file_size_kb  \\\n",
            "count   500.00   500.00    500.00           500.00     500.00        500.00   \n",
            "mean  2,601.26 1,040.18    506.87             8.32      61.12      2,511.82   \n",
            "std   1,429.43   562.67    283.38             3.90      18.15      1,390.18   \n",
            "min     105.00    13.00      5.00             1.54      30.00        101.00   \n",
            "25%   1,343.50   587.75    276.75             5.03      45.00      1,374.75   \n",
            "50%   2,566.50 1,092.00    518.00             8.38      63.00      2,498.00   \n",
            "75%   3,913.25 1,502.00    744.25            11.54      77.00      3,729.00   \n",
            "max   4,944.00 1,999.00    998.00            14.99      90.00      4,973.00   \n",
            "\n",
            "       style_accuracy_score  \n",
            "count                500.00  \n",
            "mean                  74.63  \n",
            "std                   14.68  \n",
            "min                   50.00  \n",
            "25%                   62.00  \n",
            "50%                   74.00  \n",
            "75%                   87.25  \n",
            "max                  100.00  \n"
          ]
        }
      ]
    },
    {
      "cell_type": "code",
      "source": [
        "print(df.columns)"
      ],
      "metadata": {
        "colab": {
          "base_uri": "https://localhost:8080/"
        },
        "id": "z0Qbbr2LGBkg",
        "outputId": "5a8412fd-cd06-4895-839a-81f78793b481"
      },
      "execution_count": 36,
      "outputs": [
        {
          "output_type": "stream",
          "name": "stdout",
          "text": [
            "Index(['image_id', 'user_id', 'prompt', 'likes', 'shares', 'comments',\n",
            "       'platform', 'generation_time', 'gpu_usage', 'file_size_kb',\n",
            "       'resolution', 'style_accuracy_score', 'is_hand_edited',\n",
            "       'ethical_concerns_flag', 'creation_date', 'top_comment'],\n",
            "      dtype='object')\n"
          ]
        }
      ]
    },
    {
      "cell_type": "code",
      "source": [
        "print(f\"Mean - likes: {df['likes'].mean():.2f}\")\n",
        "print(f\"Median - likes: {df['likes'].median():.2f}\")\n",
        "print(f\"STD - likes: {df['likes'].std():.2f}\")\n",
        "# print(df[\"Revenue\"].mode())\n",
        "print()\n",
        "\n",
        "print(f\"Mean - shares: {df['shares'].mean():.2f}\")\n",
        "print(f\"Median - shares: {df['shares'].median():.2f}\")\n",
        "print(f\"STD - shares: {df['shares'].std():.2f}\")\n",
        "# print(df[\"Profit\"].mode())\n",
        "print()\n",
        "\n",
        "print(f\"Mean - comments: {df['comments'].mean():.2f}\")\n",
        "print(f\"Median - comments: {df['comments'].median():.2f}\")\n",
        "print(f\"STD - comments: {df['comments'].std():.2f}\")\n",
        "# print(df[\"Profit\"].mode())\n",
        "print()\n",
        "\n",
        "print(f\"Mean - generation_time: {df['generation_time'].mean():.2f}\")\n",
        "print(f\"Median - generation_time: {df['generation_time'].median():.2f}\")\n",
        "print(f\"STD - generation_time: {df['generation_time'].std():.2f}\")\n",
        "# print(df[\"Profit\"].mode())\n",
        "print()\n",
        "\n",
        "print(f\"Mean - gpu_usage: {df['gpu_usage'].mean():.2f}\")\n",
        "print(f\"Median - gpu_usage: {df['gpu_usage'].median():.2f}\")\n",
        "print(f\"STD - gpu_usage: {df['gpu_usage'].std():.2f}\")\n",
        "# print(df[\"Profit\"].mode())\n",
        "print()\n",
        "\n",
        "print(f\"Mean - file_size_kb: {df['file_size_kb'].mean():.2f}\")\n",
        "print(f\"Median - generation_time: {df['file_size_kb'].median():.2f}\")\n",
        "print(f\"STD - file_size_kb: {df['file_size_kb'].std():.2f}\")\n",
        "# print(df[\"Profit\"].mode())\n",
        "print()\n",
        "\n",
        "print(f\"Mean - style_accuracy_score: {df['style_accuracy_score'].mean():.2f}\")\n",
        "print(f\"Median - style_accuracy_score: {df['style_accuracy_score'].median():.2f}\")\n",
        "print(f\"STD - style_accuracy_score: {df['style_accuracy_score'].std():.2f}\")\n",
        "# print(df[\"Profit\"].mode())\n",
        "print()\n"
      ],
      "metadata": {
        "colab": {
          "base_uri": "https://localhost:8080/"
        },
        "id": "76ewWAKvF_LC",
        "outputId": "9139941d-f0b8-445a-b8f2-4f6a71fea936"
      },
      "execution_count": 37,
      "outputs": [
        {
          "output_type": "stream",
          "name": "stdout",
          "text": [
            "Mean - likes: 2601.26\n",
            "Median - likes: 2566.50\n",
            "STD - likes: 1429.43\n",
            "\n",
            "Mean - shares: 1040.18\n",
            "Median - shares: 1092.00\n",
            "STD - shares: 562.67\n",
            "\n",
            "Mean - comments: 506.87\n",
            "Median - comments: 518.00\n",
            "STD - comments: 283.38\n",
            "\n",
            "Mean - generation_time: 8.32\n",
            "Median - generation_time: 8.38\n",
            "STD - generation_time: 3.90\n",
            "\n",
            "Mean - gpu_usage: 61.12\n",
            "Median - gpu_usage: 63.00\n",
            "STD - gpu_usage: 18.15\n",
            "\n",
            "Mean - file_size_kb: 2511.82\n",
            "Median - generation_time: 2498.00\n",
            "STD - file_size_kb: 1390.18\n",
            "\n",
            "Mean - style_accuracy_score: 74.63\n",
            "Median - style_accuracy_score: 74.00\n",
            "STD - style_accuracy_score: 14.68\n",
            "\n"
          ]
        }
      ]
    },
    {
      "cell_type": "markdown",
      "source": [
        "3. Worldwide AI Development Rankings - https://www.kaggle.com/datasets/eshummalik/worldwide-ai-development-rankings"
      ],
      "metadata": {
        "id": "MC8poUydHEtB"
      }
    },
    {
      "cell_type": "code",
      "source": [
        "df = pd.read_csv('/content/AI_index_db.csv')\n",
        "\n",
        "print(df.head(10))"
      ],
      "metadata": {
        "colab": {
          "base_uri": "https://localhost:8080/"
        },
        "id": "YxFCXMEbHDOg",
        "outputId": "814b1e80-0db6-44ec-b8f8-40389ec0776d"
      },
      "execution_count": 38,
      "outputs": [
        {
          "output_type": "stream",
          "name": "stdout",
          "text": [
            "                    Country  Talent  Infrastructure  Operating Environment  \\\n",
            "0  United States of America  100.00           94.02                  64.56   \n",
            "1                     China   16.51          100.00                  91.57   \n",
            "2            United Kingdom   39.65           71.43                  74.65   \n",
            "3                    Canada   31.28           77.05                  93.94   \n",
            "4                    Israel   35.76           67.58                  82.44   \n",
            "5                 Singapore   39.38           84.30                  43.15   \n",
            "6               South Korea   14.54           85.23                  68.86   \n",
            "7           The Netherlands   33.83           81.99                  88.05   \n",
            "8                   Germany   27.63           77.22                  70.22   \n",
            "9                    France   28.32           77.15                  80.02   \n",
            "\n",
            "   Research  Development  Government Strategy  Commercial  Total score  \\\n",
            "0    100.00       100.00                77.39      100.00       100.00   \n",
            "1     71.42        79.97                94.87       44.02        62.92   \n",
            "2     36.50        25.03                82.82       18.91        40.93   \n",
            "3     30.67        25.78               100.00       14.88        40.19   \n",
            "4     32.63        27.96                43.91       27.33        39.89   \n",
            "5     37.67        22.55                79.82       15.07        38.67   \n",
            "6     26.66        77.25                87.50        5.41        38.60   \n",
            "7     25.54        30.17                62.35        4.97        36.35   \n",
            "8     35.84        24.79                84.65        8.29        36.04   \n",
            "9     25.48        21.44                91.20        7.65        34.42   \n",
            "\n",
            "         Region                Cluster  Income group     Political regime  \n",
            "0      Americas          Power players          High    Liberal democracy  \n",
            "1  Asia-Pacific          Power players  Upper middle     Closed autocracy  \n",
            "2        Europe  Traditional champions          High    Liberal democracy  \n",
            "3      Americas  Traditional champions          High    Liberal democracy  \n",
            "4   Middle East           Rising stars          High    Liberal democracy  \n",
            "5  Asia-Pacific           Rising stars          High  Electoral democracy  \n",
            "6  Asia-Pacific           Rising stars          High    Liberal democracy  \n",
            "7        Europe           Rising stars          High    Liberal democracy  \n",
            "8        Europe  Traditional champions          High    Liberal democracy  \n",
            "9        Europe  Traditional champions          High    Liberal democracy  \n"
          ]
        }
      ]
    },
    {
      "cell_type": "code",
      "source": [
        "print(df.columns)"
      ],
      "metadata": {
        "id": "6VE9kEKYHv0h",
        "colab": {
          "base_uri": "https://localhost:8080/"
        },
        "outputId": "38ef10bf-5b63-4e37-a8a2-2633ef8ff748"
      },
      "execution_count": 39,
      "outputs": [
        {
          "output_type": "stream",
          "name": "stdout",
          "text": [
            "Index(['Country', 'Talent', 'Infrastructure', 'Operating Environment',\n",
            "       'Research', 'Development', 'Government Strategy', 'Commercial',\n",
            "       'Total score', 'Region', 'Cluster', 'Income group', 'Political regime'],\n",
            "      dtype='object')\n"
          ]
        }
      ]
    },
    {
      "cell_type": "code",
      "source": [
        "print(df.describe())"
      ],
      "metadata": {
        "colab": {
          "base_uri": "https://localhost:8080/"
        },
        "id": "DrGy-s6GHZ1l",
        "outputId": "319dbc13-436c-49c6-8a53-ce7770bbe3f2"
      },
      "execution_count": 40,
      "outputs": [
        {
          "output_type": "stream",
          "name": "stdout",
          "text": [
            "       Talent  Infrastructure  Operating Environment  Research  Development  \\\n",
            "count   62.00           62.00                  62.00     62.00        62.00   \n",
            "mean    16.80           63.50                  66.93     16.61        14.82   \n",
            "std     15.21           20.22                  20.00     17.41        19.42   \n",
            "min      0.00            0.00                   0.00      0.00         0.00   \n",
            "25%      7.37           55.86                  58.11      3.03         1.20   \n",
            "50%     13.45           65.23                  69.50     12.93         9.00   \n",
            "75%     24.57           75.95                  80.50     25.41        19.98   \n",
            "max    100.00          100.00                 100.00    100.00       100.00   \n",
            "\n",
            "       Government Strategy  Commercial  Total score  \n",
            "count                62.00       62.00        62.00  \n",
            "mean                 57.87        6.17        23.91  \n",
            "std                  26.25       14.03        15.12  \n",
            "min                   0.00        0.00         0.00  \n",
            "25%                  41.03        0.70        14.80  \n",
            "50%                  63.93        2.58        23.22  \n",
            "75%                  77.95        5.31        30.49  \n",
            "max                 100.00      100.00       100.00  \n"
          ]
        }
      ]
    },
    {
      "cell_type": "code",
      "source": [
        "# What are the mean, median, and standard deviation for each variable (Talent, Research, Infrastructure, etc.)?\n",
        "\n",
        "print(f\"Mean - Talent: {df['Talent'].mean():.2f}\")\n",
        "print(f\"Median - Talent: {df['Talent'].median():.2f}\")\n",
        "print(f\"STD - Talent: {df['Talent'].std():.2f}\")\n",
        "# print(df[\"Revenue\"].mode())\n",
        "print()\n",
        "\n",
        "print(f\"Mean - Infrastructure: {df['Infrastructure'].mean():.2f}\")\n",
        "print(f\"Median - Infrastructure: {df['Infrastructure'].median():.2f}\")\n",
        "print(f\"STD - Infrastructure: {df['Infrastructure'].std():.2f}\")\n",
        "# print(df[\"Profit\"].mode())\n",
        "print()\n",
        "\n",
        "print(f\"Mean - Operating Environment: {df['Operating Environment'].mean():.2f}\")\n",
        "print(f\"Median - Operating Environment: {df['Operating Environment'].median():.2f}\")\n",
        "print(f\"STD - Operating Environment: {df['Operating Environment'].std():.2f}\")\n",
        "# print(df[\"Profit\"].mode())\n",
        "print()\n",
        "\n",
        "print(f\"Mean - Research: {df['Research'].mean():.2f}\")\n",
        "print(f\"Median - Research: {df['Research'].median():.2f}\")\n",
        "print(f\"STD - Research: {df['Research'].std():.2f}\")\n",
        "# print(df[\"Profit\"].mode())\n",
        "print()\n",
        "\n",
        "print(f\"Mean - Development: {df['Development'].mean():.2f}\")\n",
        "print(f\"Median - Development: {df['Development'].median():.2f}\")\n",
        "print(f\"STD - Development: {df['Development'].std():.2f}\")\n",
        "# print(df[\"Profit\"].mode())\n",
        "print()\n",
        "\n",
        "print(f\"Mean - Government Strategy: {df['Government Strategy'].mean():.2f}\")\n",
        "print(f\"Median - Government Strategy: {df['Government Strategy'].median():.2f}\")\n",
        "print(f\"STD - Government Strategy: {df['Government Strategy'].std():.2f}\")\n",
        "# print(df[\"Profit\"].mode())\n",
        "print()\n",
        "\n",
        "print(f\"Mean - Commercial: {df['Commercial'].mean():.2f}\")\n",
        "print(f\"Median - Commercial: {df['Commercial'].median():.2f}\")\n",
        "print(f\"STD - Commercial: {df['Commercial'].std():.2f}\")\n",
        "# print(df[\"Profit\"].mode())\n",
        "print()\n",
        "\n",
        "print(f\"Mean - Total score: {df['Total score'].mean():.2f}\")\n",
        "print(f\"Median - Total score: {df['Total score'].median():.2f}\")\n",
        "print(f\"STD - Total score: {df['Total score'].std():.2f}\")\n",
        "# print(df[\"Profit\"].mode())\n",
        "print()\n"
      ],
      "metadata": {
        "colab": {
          "base_uri": "https://localhost:8080/"
        },
        "id": "T-nTXIoIHplq",
        "outputId": "c94ce81b-abad-44b1-c1a9-268dfb5d2e83"
      },
      "execution_count": 41,
      "outputs": [
        {
          "output_type": "stream",
          "name": "stdout",
          "text": [
            "Mean - Talent: 16.80\n",
            "Median - Talent: 13.45\n",
            "STD - Talent: 15.21\n",
            "\n",
            "Mean - Infrastructure: 63.50\n",
            "Median - Infrastructure: 65.23\n",
            "STD - Infrastructure: 20.22\n",
            "\n",
            "Mean - Operating Environment: 66.93\n",
            "Median - Operating Environment: 69.50\n",
            "STD - Operating Environment: 20.00\n",
            "\n",
            "Mean - Research: 16.61\n",
            "Median - Research: 12.93\n",
            "STD - Research: 17.41\n",
            "\n",
            "Mean - Development: 14.82\n",
            "Median - Development: 9.00\n",
            "STD - Development: 19.42\n",
            "\n",
            "Mean - Government Strategy: 57.87\n",
            "Median - Government Strategy: 63.93\n",
            "STD - Government Strategy: 26.25\n",
            "\n",
            "Mean - Commercial: 6.17\n",
            "Median - Commercial: 2.58\n",
            "STD - Commercial: 14.03\n",
            "\n",
            "Mean - Total score: 23.91\n",
            "Median - Total score: 23.22\n",
            "STD - Total score: 15.12\n",
            "\n"
          ]
        }
      ]
    },
    {
      "cell_type": "code",
      "source": [
        "# 1. What is the average (mean) total AI score across all countries?\n",
        "\n",
        "print(f\"The average (mean) total AI score across all countries:: {df['Total score'].mean():.2f}\")\n",
        "\n",
        "# print(df[\"Profit\"].mode())\n",
        "print()"
      ],
      "metadata": {
        "colab": {
          "base_uri": "https://localhost:8080/"
        },
        "id": "nq3_pVVJPDZ5",
        "outputId": "9661c066-0da6-4a7e-cbcf-bad120ffedc7"
      },
      "execution_count": 42,
      "outputs": [
        {
          "output_type": "stream",
          "name": "stdout",
          "text": [
            "The average (mean) total AI score across all countries:: 23.91\n",
            "\n"
          ]
        }
      ]
    },
    {
      "cell_type": "code",
      "source": [
        "# 2.Which area (Talent, Research, Infrastructure, etc.) has the highest average score? → To find where most countries perform best and least.\n",
        "\n",
        "cols = [\"Talent\", \"Infrastructure\", \"Operating Environment\",\n",
        "        \"Research\", \"Development\", \"Government Strategy\", \"Commercial\"]\n",
        "\n",
        "# Calculate mean for each column as panda series and not datafram\n",
        "mean_scores = df[cols].mean().sort_values(ascending=False)\n",
        "\n",
        "print(\"The area (Talent, Research, Infrastructure, etc.) that has the highest average score:\")\n",
        "print(mean_scores)\n",
        "print()\n",
        "\n",
        "print(f\"Countires performing best (high mean) is at {mean_scores.index[0]} with mean {mean_scores.iloc[0]:.2f}\")\n",
        "print(f\"Countires performing least (low mean) is at {mean_scores.index[-1]} with mean {mean_scores.iloc[-1]:.2f}\")"
      ],
      "metadata": {
        "colab": {
          "base_uri": "https://localhost:8080/"
        },
        "id": "Ra4J5ISZPrQb",
        "outputId": "0bcc93d8-78c9-4196-bfba-9556e47926d5"
      },
      "execution_count": 43,
      "outputs": [
        {
          "output_type": "stream",
          "name": "stdout",
          "text": [
            "The area (Talent, Research, Infrastructure, etc.) that has the highest average score:\n",
            "Operating Environment   66.93\n",
            "Infrastructure          63.50\n",
            "Government Strategy     57.87\n",
            "Talent                  16.80\n",
            "Research                16.61\n",
            "Development             14.82\n",
            "Commercial               6.17\n",
            "dtype: float64\n",
            "\n",
            "Countires performing best (high mean) is at Operating Environment with mean 66.93\n",
            "Countires performing least (low mean) is at Commercial with mean 6.17\n"
          ]
        }
      ]
    },
    {
      "cell_type": "code",
      "source": [
        "# 3. What is the range of total AI scores among all countries? → To see how much difference exists between the top and bottom performers.\n",
        "\n",
        "range_total_score = df[\"Total score\"].max() - df[\"Total score\"].min()\n",
        "print(\"The difference between the top and bottom performers (Total Score): \", range_total_score)"
      ],
      "metadata": {
        "colab": {
          "base_uri": "https://localhost:8080/"
        },
        "id": "YW-1A8sjVHbB",
        "outputId": "e434cae2-6f9c-4f8f-e114-62ffa5e0d0b3"
      },
      "execution_count": 44,
      "outputs": [
        {
          "output_type": "stream",
          "name": "stdout",
          "text": [
            "The difference between the top and bottom performers (Total Score):  100.0\n"
          ]
        }
      ]
    },
    {
      "cell_type": "code",
      "source": [
        "# 4. Which region (e.g., Americas, Europe, Asia-Pacific) has the highest average total AI score? → To compare AI readiness between regions.\n",
        "\n",
        "print(\"The region that has highest AI readiness score: \")\n",
        "print(df.groupby(\"Region\")[\"Total score\"].mean().sort_values(ascending=False))"
      ],
      "metadata": {
        "colab": {
          "base_uri": "https://localhost:8080/"
        },
        "id": "iEjcX2BBVZgj",
        "outputId": "c1914d36-dd78-49fb-9bbe-28ddcedbb1fe"
      },
      "execution_count": 45,
      "outputs": [
        {
          "output_type": "stream",
          "name": "stdout",
          "text": [
            "The region that has highest AI readiness score: \n",
            "Region\n",
            "Americas       29.03\n",
            "Asia-Pacific   25.79\n",
            "Europe         25.49\n",
            "Middle East    19.66\n",
            "Africa          6.43\n",
            "Name: Total score, dtype: float64\n"
          ]
        }
      ]
    },
    {
      "cell_type": "code",
      "source": [
        "# 5. How does the average Operating Environment score differ between income groups? → To describe how income groups affects Operating Environment.\n",
        "\n",
        "print(\"Average Operating Environment score for different Income groups: \")\n",
        "print(df.groupby(\"Income group\")[\"Operating Environment\"].mean().sort_values(ascending=False)\n",
        ")"
      ],
      "metadata": {
        "colab": {
          "base_uri": "https://localhost:8080/"
        },
        "id": "RCf01F-NO7zH",
        "outputId": "eaf4d557-4447-4381-985c-95468452bbf1"
      },
      "execution_count": 46,
      "outputs": [
        {
          "output_type": "stream",
          "name": "stdout",
          "text": [
            "Average Operating Environment score for different Income groups: \n",
            "Income group\n",
            "High           71.86\n",
            "Upper middle   71.41\n",
            "Lower middle   41.68\n",
            "Name: Operating Environment, dtype: float64\n"
          ]
        }
      ]
    },
    {
      "cell_type": "code",
      "source": [
        "# 6. Which variable shows the most and least variation (highest standard deviation)? → To identify most consistent or most variation in performance.\n",
        "\n",
        "# Calculate mean for each column as panda series and not datafram\n",
        "std_scores = df[cols].std().sort_values(ascending=False)\n",
        "\n",
        "print(\"STD scores for all features: \")\n",
        "print(std_scores)\n",
        "print()\n",
        "\n",
        "print(f\"Most variation (high std) in performance is {std_scores.index[0]} with STD {std_scores.iloc[0]:.2f}\")\n",
        "print(f\"Most consistent (low std) in performance is {std_scores.index[-1]} with STD {std_scores.iloc[-1]:.2f}\")"
      ],
      "metadata": {
        "colab": {
          "base_uri": "https://localhost:8080/"
        },
        "id": "y7hh-ZbiVpij",
        "outputId": "9546ab67-1498-4417-fb7a-ed4702d882bd"
      },
      "execution_count": 47,
      "outputs": [
        {
          "output_type": "stream",
          "name": "stdout",
          "text": [
            "STD scores for all features: \n",
            "Government Strategy     26.25\n",
            "Infrastructure          20.22\n",
            "Operating Environment   20.00\n",
            "Development             19.42\n",
            "Research                17.41\n",
            "Talent                  15.21\n",
            "Commercial              14.03\n",
            "dtype: float64\n",
            "\n",
            "Most variation (high std) in performance is Government Strategy with STD 26.25\n",
            "Most consistent (low std) in performance is Commercial with STD 14.03\n"
          ]
        }
      ]
    },
    {
      "cell_type": "code",
      "source": [
        "#7. How does the average government strategy score differ between cluster groups?\n",
        "\n",
        "print(\"Average government strategy score for differnt cluster groups:\")\n",
        "\n",
        "print(df.groupby(\"Cluster\")[\"Government Strategy\"].mean().sort_values(ascending=False))"
      ],
      "metadata": {
        "colab": {
          "base_uri": "https://localhost:8080/"
        },
        "id": "TqQIWjut-F5y",
        "outputId": "15f453c7-2a43-456f-f299-fa59de5b27a8"
      },
      "execution_count": 48,
      "outputs": [
        {
          "output_type": "stream",
          "name": "stdout",
          "text": [
            "Average government strategy score for differnt cluster groups:\n",
            "Cluster\n",
            "Traditional champions   89.67\n",
            "Power players           86.13\n",
            "Rising stars            69.16\n",
            "Waking up               54.06\n",
            "Nascent                 26.74\n",
            "Name: Government Strategy, dtype: float64\n"
          ]
        }
      ]
    },
    {
      "cell_type": "code",
      "source": [
        "#8. How does the average Talent score differ between cluster groups?\n",
        "\n",
        "print(\"Average Talent score for differnt cluster groups:\")\n",
        "\n",
        "\n",
        "print(df.groupby(\"Cluster\")[\"Talent\"].mean().sort_values(ascending=False))\n",
        "\n"
      ],
      "metadata": {
        "colab": {
          "base_uri": "https://localhost:8080/"
        },
        "id": "b5jNy7k5_SO8",
        "outputId": "02c54527-ecd9-4c95-84a0-63523ddaff15"
      },
      "execution_count": 49,
      "outputs": [
        {
          "output_type": "stream",
          "name": "stdout",
          "text": [
            "Average Talent score for differnt cluster groups:\n",
            "Cluster\n",
            "Power players           58.26\n",
            "Traditional champions   31.72\n",
            "Rising stars            26.30\n",
            "Waking up               12.25\n",
            "Nascent                  3.77\n",
            "Name: Talent, dtype: float64\n"
          ]
        }
      ]
    },
    {
      "cell_type": "code",
      "source": [
        "# 9. How does the average Talent score differ between Income group?\n",
        "\n",
        "print(\"The average Talent score for differnt Income groups:\")\n",
        "\n",
        "\n",
        "print(df.groupby(\"Income group\")[\"Talent\"].mean().sort_values(ascending=False))"
      ],
      "metadata": {
        "colab": {
          "base_uri": "https://localhost:8080/"
        },
        "id": "qpARpe0fACFb",
        "outputId": "987fea9b-aee8-4fcb-eef7-96cce9b07174"
      },
      "execution_count": 50,
      "outputs": [
        {
          "output_type": "stream",
          "name": "stdout",
          "text": [
            "The average Talent score for differnt Income groups:\n",
            "Income group\n",
            "High           20.33\n",
            "Lower middle    8.83\n",
            "Upper middle    8.81\n",
            "Name: Talent, dtype: float64\n"
          ]
        }
      ]
    },
    {
      "cell_type": "code",
      "source": [
        "# 10. How does the average Infrastructure differ between Regions?\n",
        "\n",
        "print(\"The average Infrastructure score for differnt Regions:\")\n",
        "\n",
        "print(df.groupby(\"Region\")[\"Infrastructure\"].mean().sort_values(ascending=False))\n"
      ],
      "metadata": {
        "colab": {
          "base_uri": "https://localhost:8080/"
        },
        "id": "lCrDKaoO5jWK",
        "outputId": "b1cbe575-b5a8-4f94-f406-f6a85f3b365d"
      },
      "execution_count": 51,
      "outputs": [
        {
          "output_type": "stream",
          "name": "stdout",
          "text": [
            "The average Infrastructure score for differnt Regions:\n",
            "Region\n",
            "Europe         69.12\n",
            "Middle East    64.12\n",
            "Asia-Pacific   64.11\n",
            "Americas       63.40\n",
            "Africa         28.66\n",
            "Name: Infrastructure, dtype: float64\n"
          ]
        }
      ]
    },
    {
      "cell_type": "code",
      "source": [
        "numerical_df = df.drop(['Country', 'Region', 'Cluster', 'Income group', 'Political regime'], axis=1)\n",
        "\n",
        "corr_matrix = numerical_df.corr()\n",
        "\n",
        "# Print correlation values\n",
        "print(\"\\nCorrelation Matrix:\")\n",
        "print(corr_matrix)\n",
        "\n",
        "plt.figure(figsize=(8, 6))\n",
        "sns.heatmap(corr_matrix, annot=True, cmap='coolwarm', fmt=\".2f\", linewidths=0.5)\n",
        "plt.title(\"Correlation Heatmap of All Variables\", fontsize=14)\n",
        "plt.show()"
      ],
      "metadata": {
        "colab": {
          "base_uri": "https://localhost:8080/",
          "height": 1000
        },
        "id": "F9pjEwVJ04ED",
        "outputId": "23ae2a8b-eb56-4a0c-d3cc-c81d57891a15"
      },
      "execution_count": 52,
      "outputs": [
        {
          "output_type": "stream",
          "name": "stdout",
          "text": [
            "\n",
            "Correlation Matrix:\n",
            "                       Talent  Infrastructure  Operating Environment  \\\n",
            "Talent                   1.00            0.46                   0.16   \n",
            "Infrastructure           0.46            1.00                   0.41   \n",
            "Operating Environment    0.16            0.41                   1.00   \n",
            "Research                 0.81            0.62                   0.20   \n",
            "Development              0.68            0.51                   0.16   \n",
            "Government Strategy      0.32            0.55                   0.40   \n",
            "Commercial               0.80            0.38                   0.11   \n",
            "Total score              0.86            0.72                   0.37   \n",
            "\n",
            "                       Research  Development  Government Strategy  Commercial  \\\n",
            "Talent                     0.81         0.68                 0.32        0.80   \n",
            "Infrastructure             0.62         0.51                 0.55        0.38   \n",
            "Operating Environment      0.20         0.16                 0.40        0.11   \n",
            "Research                   1.00         0.85                 0.38        0.85   \n",
            "Development                0.85         1.00                 0.42        0.78   \n",
            "Government Strategy        0.38         0.42                 1.00        0.25   \n",
            "Commercial                 0.85         0.78                 0.25        1.00   \n",
            "Total score                0.95         0.87                 0.53        0.86   \n",
            "\n",
            "                       Total score  \n",
            "Talent                        0.86  \n",
            "Infrastructure                0.72  \n",
            "Operating Environment         0.37  \n",
            "Research                      0.95  \n",
            "Development                   0.87  \n",
            "Government Strategy           0.53  \n",
            "Commercial                    0.86  \n",
            "Total score                   1.00  \n"
          ]
        },
        {
          "output_type": "display_data",
          "data": {
            "text/plain": [
              "<Figure size 800x600 with 2 Axes>"
            ],
            "image/png": "[encoded data removed]"
          },
          "metadata": {}
        }
      ]
    },
    {
      "cell_type": "code",
      "source": [
        "\n",
        "import pandas as pd\n",
        "from sklearn.pipeline import Pipeline\n",
        "from sklearn.preprocessing import StandardScaler\n",
        "from sklearn.linear_model import Ridge\n",
        "from sklearn.model_selection import train_test_split\n",
        "from sklearn.metrics import mean_absolute_error, r2_score\n",
        "\n",
        "df = pd.read_csv(\"/content/AI_index_db.csv\")\n",
        "X = df[['Talent','Infrastructure','Operating Environment',\n",
        "        'Research','Development','Government Strategy','Commercial']]\n",
        "y = df['Total score']\n",
        "\n",
        "X_train, X_test, y_train, y_test = train_test_split(X, y, test_size=0.2, random_state=42)\n",
        "\n",
        "model = Pipeline([\n",
        "    ('scaler', StandardScaler()),\n",
        "    ('ridge', Ridge(alpha=1.0, random_state=0))\n",
        "])\n",
        "\n",
        "model.fit(X_train, y_train)\n",
        "\n",
        "y_pred = model.predict(X_test)\n",
        "print(\"R²:\", r2_score(y_test, y_pred))\n",
        "print(\"MAE:\", mean_absolute_error(y_test, y_pred))\n",
        "\n",
        "ridge = model.named_steps['ridge']\n",
        "scaler = model.named_steps['scaler']\n",
        "\n",
        "coefs = pd.Series(ridge.coef_, index=X.columns)\n",
        "print(coefs.sort_values(ascending=False))"
      ],
      "metadata": {
        "colab": {
          "base_uri": "https://localhost:8080/"
        },
        "id": "bU4E7LtS0zVy",
        "outputId": "69a7ec0a-c8d2-4eb5-d864-31a073c24a73"
      },
      "execution_count": 53,
      "outputs": [
        {
          "output_type": "stream",
          "name": "stdout",
          "text": [
            "R²: 0.9999914967151053\n",
            "MAE: 0.06115323911709735\n",
            "Research                3.11\n",
            "Infrastructure          2.60\n",
            "Development             2.34\n",
            "Talent                  2.21\n",
            "Operating Environment   1.80\n",
            "Commercial              1.78\n",
            "Government Strategy     1.16\n",
            "dtype: float64\n"
          ]
        }
      ]
    }
  ]
}